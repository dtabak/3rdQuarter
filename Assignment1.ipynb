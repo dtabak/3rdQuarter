{
 "cells": [
  {
   "cell_type": "markdown",
   "metadata": {},
   "source": [
    "## Assignment 1, 04/11/2018\n",
    "### Prepared by Duygu Sonmez Tabak"
   ]
  },
  {
   "cell_type": "markdown",
   "metadata": {},
   "source": [
    "In this assignment, we will design a simple sensor that can distinguish between red wine and white wine. Our sensor must correctly distinguish between red and white wine for at least 95% of the samples in a set of 6497 test samples of red and white wine."
   ]
  },
  {
   "cell_type": "markdown",
   "metadata": {},
   "source": [
    "### Load & Inspect the Dataset"
   ]
  },
  {
   "cell_type": "markdown",
   "metadata": {},
   "source": [
    "First, we will load the dataset. "
   ]
  },
  {
   "cell_type": "code",
   "execution_count": 432,
   "metadata": {
    "collapsed": true
   },
   "outputs": [],
   "source": [
    "# Import the libraries\n",
    "import pandas as pd\n",
    "import numpy as np"
   ]
  },
  {
   "cell_type": "code",
   "execution_count": 433,
   "metadata": {
    "collapsed": true
   },
   "outputs": [],
   "source": [
    "# Load in the data with 'read_csv()'\n",
    "wine = pd.read_csv(\"/Users/duygusonmez/Desktop/Assignment1/RedWhiteWine.csv\",\n",
    "                     header=None)"
   ]
  },
  {
   "cell_type": "markdown",
   "metadata": {},
   "source": [
    "Let's take a look at the dataset."
   ]
  },
  {
   "cell_type": "code",
   "execution_count": 434,
   "metadata": {},
   "outputs": [
    {
     "data": {
      "text/html": [
       "<div>\n",
       "<style>\n",
       "    .dataframe thead tr:only-child th {\n",
       "        text-align: right;\n",
       "    }\n",
       "\n",
       "    .dataframe thead th {\n",
       "        text-align: left;\n",
       "    }\n",
       "\n",
       "    .dataframe tbody tr th {\n",
       "        vertical-align: top;\n",
       "    }\n",
       "</style>\n",
       "<table border=\"1\" class=\"dataframe\">\n",
       "  <thead>\n",
       "    <tr style=\"text-align: right;\">\n",
       "      <th></th>\n",
       "      <th>0</th>\n",
       "      <th>1</th>\n",
       "      <th>2</th>\n",
       "      <th>3</th>\n",
       "      <th>4</th>\n",
       "      <th>5</th>\n",
       "      <th>6</th>\n",
       "      <th>7</th>\n",
       "      <th>8</th>\n",
       "      <th>9</th>\n",
       "      <th>10</th>\n",
       "      <th>11</th>\n",
       "      <th>12</th>\n",
       "    </tr>\n",
       "  </thead>\n",
       "  <tbody>\n",
       "    <tr>\n",
       "      <th>count</th>\n",
       "      <td>6498</td>\n",
       "      <td>6498</td>\n",
       "      <td>6498</td>\n",
       "      <td>6498</td>\n",
       "      <td>6498</td>\n",
       "      <td>6498</td>\n",
       "      <td>6498</td>\n",
       "      <td>6498</td>\n",
       "      <td>6498</td>\n",
       "      <td>6498</td>\n",
       "      <td>6498</td>\n",
       "      <td>6498</td>\n",
       "      <td>6498</td>\n",
       "    </tr>\n",
       "    <tr>\n",
       "      <th>unique</th>\n",
       "      <td>107</td>\n",
       "      <td>188</td>\n",
       "      <td>90</td>\n",
       "      <td>317</td>\n",
       "      <td>215</td>\n",
       "      <td>136</td>\n",
       "      <td>277</td>\n",
       "      <td>999</td>\n",
       "      <td>109</td>\n",
       "      <td>112</td>\n",
       "      <td>112</td>\n",
       "      <td>8</td>\n",
       "      <td>3</td>\n",
       "    </tr>\n",
       "    <tr>\n",
       "      <th>top</th>\n",
       "      <td>6.8</td>\n",
       "      <td>0.28</td>\n",
       "      <td>0.3</td>\n",
       "      <td>2</td>\n",
       "      <td>0.044</td>\n",
       "      <td>29</td>\n",
       "      <td>111</td>\n",
       "      <td>0.9972</td>\n",
       "      <td>3.16</td>\n",
       "      <td>0.5</td>\n",
       "      <td>9.5</td>\n",
       "      <td>6</td>\n",
       "      <td>0</td>\n",
       "    </tr>\n",
       "    <tr>\n",
       "      <th>freq</th>\n",
       "      <td>354</td>\n",
       "      <td>286</td>\n",
       "      <td>337</td>\n",
       "      <td>235</td>\n",
       "      <td>206</td>\n",
       "      <td>183</td>\n",
       "      <td>72</td>\n",
       "      <td>69</td>\n",
       "      <td>200</td>\n",
       "      <td>276</td>\n",
       "      <td>367</td>\n",
       "      <td>2836</td>\n",
       "      <td>4898</td>\n",
       "    </tr>\n",
       "  </tbody>\n",
       "</table>\n",
       "</div>"
      ],
      "text/plain": [
       "          0     1     2     3      4     5     6       7     8     9     10  \\\n",
       "count   6498  6498  6498  6498   6498  6498  6498    6498  6498  6498  6498   \n",
       "unique   107   188    90   317    215   136   277     999   109   112   112   \n",
       "top      6.8  0.28   0.3     2  0.044    29   111  0.9972  3.16   0.5   9.5   \n",
       "freq     354   286   337   235    206   183    72      69   200   276   367   \n",
       "\n",
       "          11    12  \n",
       "count   6498  6498  \n",
       "unique     8     3  \n",
       "top        6     0  \n",
       "freq    2836  4898  "
      ]
     },
     "execution_count": 434,
     "metadata": {},
     "output_type": "execute_result"
    }
   ],
   "source": [
    "wine.describe()"
   ]
  },
  {
   "cell_type": "code",
   "execution_count": 435,
   "metadata": {
    "scrolled": false
   },
   "outputs": [
    {
     "data": {
      "text/html": [
       "<div>\n",
       "<style>\n",
       "    .dataframe thead tr:only-child th {\n",
       "        text-align: right;\n",
       "    }\n",
       "\n",
       "    .dataframe thead th {\n",
       "        text-align: left;\n",
       "    }\n",
       "\n",
       "    .dataframe tbody tr th {\n",
       "        vertical-align: top;\n",
       "    }\n",
       "</style>\n",
       "<table border=\"1\" class=\"dataframe\">\n",
       "  <thead>\n",
       "    <tr style=\"text-align: right;\">\n",
       "      <th></th>\n",
       "      <th>0</th>\n",
       "      <th>1</th>\n",
       "      <th>2</th>\n",
       "      <th>3</th>\n",
       "      <th>4</th>\n",
       "      <th>5</th>\n",
       "      <th>6</th>\n",
       "      <th>7</th>\n",
       "      <th>8</th>\n",
       "      <th>9</th>\n",
       "      <th>10</th>\n",
       "      <th>11</th>\n",
       "      <th>12</th>\n",
       "    </tr>\n",
       "  </thead>\n",
       "  <tbody>\n",
       "    <tr>\n",
       "      <th>0</th>\n",
       "      <td>fixed acidity</td>\n",
       "      <td>volatile acidity</td>\n",
       "      <td>citric acid</td>\n",
       "      <td>residual sugar</td>\n",
       "      <td>chlorides</td>\n",
       "      <td>free sulfur dioxide</td>\n",
       "      <td>total sulfur dioxide</td>\n",
       "      <td>density</td>\n",
       "      <td>pH</td>\n",
       "      <td>sulphates</td>\n",
       "      <td>alcohol</td>\n",
       "      <td>quality</td>\n",
       "      <td>Class</td>\n",
       "    </tr>\n",
       "    <tr>\n",
       "      <th>1</th>\n",
       "      <td>7.4</td>\n",
       "      <td>0.7</td>\n",
       "      <td>0</td>\n",
       "      <td>1.9</td>\n",
       "      <td>0.076</td>\n",
       "      <td>11</td>\n",
       "      <td>34</td>\n",
       "      <td>0.9978</td>\n",
       "      <td>3.51</td>\n",
       "      <td>0.56</td>\n",
       "      <td>9.4</td>\n",
       "      <td>5</td>\n",
       "      <td>1</td>\n",
       "    </tr>\n",
       "    <tr>\n",
       "      <th>2</th>\n",
       "      <td>7.8</td>\n",
       "      <td>0.88</td>\n",
       "      <td>0</td>\n",
       "      <td>2.6</td>\n",
       "      <td>0.098</td>\n",
       "      <td>25</td>\n",
       "      <td>67</td>\n",
       "      <td>0.9968</td>\n",
       "      <td>3.2</td>\n",
       "      <td>0.68</td>\n",
       "      <td>9.8</td>\n",
       "      <td>5</td>\n",
       "      <td>1</td>\n",
       "    </tr>\n",
       "    <tr>\n",
       "      <th>3</th>\n",
       "      <td>7.8</td>\n",
       "      <td>0.76</td>\n",
       "      <td>0.04</td>\n",
       "      <td>2.3</td>\n",
       "      <td>0.092</td>\n",
       "      <td>15</td>\n",
       "      <td>54</td>\n",
       "      <td>0.997</td>\n",
       "      <td>3.26</td>\n",
       "      <td>0.65</td>\n",
       "      <td>9.8</td>\n",
       "      <td>5</td>\n",
       "      <td>1</td>\n",
       "    </tr>\n",
       "    <tr>\n",
       "      <th>4</th>\n",
       "      <td>11.2</td>\n",
       "      <td>0.28</td>\n",
       "      <td>0.56</td>\n",
       "      <td>1.9</td>\n",
       "      <td>0.075</td>\n",
       "      <td>17</td>\n",
       "      <td>60</td>\n",
       "      <td>0.998</td>\n",
       "      <td>3.16</td>\n",
       "      <td>0.58</td>\n",
       "      <td>9.8</td>\n",
       "      <td>6</td>\n",
       "      <td>1</td>\n",
       "    </tr>\n",
       "  </tbody>\n",
       "</table>\n",
       "</div>"
      ],
      "text/plain": [
       "              0                 1            2               3          4   \\\n",
       "0  fixed acidity  volatile acidity  citric acid  residual sugar  chlorides   \n",
       "1            7.4               0.7            0             1.9      0.076   \n",
       "2            7.8              0.88            0             2.6      0.098   \n",
       "3            7.8              0.76         0.04             2.3      0.092   \n",
       "4           11.2              0.28         0.56             1.9      0.075   \n",
       "\n",
       "                    5                     6        7     8          9   \\\n",
       "0  free sulfur dioxide  total sulfur dioxide  density    pH  sulphates   \n",
       "1                   11                    34   0.9978  3.51       0.56   \n",
       "2                   25                    67   0.9968   3.2       0.68   \n",
       "3                   15                    54    0.997  3.26       0.65   \n",
       "4                   17                    60    0.998  3.16       0.58   \n",
       "\n",
       "        10       11     12  \n",
       "0  alcohol  quality  Class  \n",
       "1      9.4        5      1  \n",
       "2      9.8        5      1  \n",
       "3      9.8        5      1  \n",
       "4      9.8        6      1  "
      ]
     },
     "execution_count": 435,
     "metadata": {},
     "output_type": "execute_result"
    }
   ],
   "source": [
    "wine.head()"
   ]
  },
  {
   "cell_type": "markdown",
   "metadata": {},
   "source": [
    "### Cleaning the Dataset"
   ]
  },
  {
   "cell_type": "markdown",
   "metadata": {},
   "source": [
    "Since the dataset has no missing values and categorical attributes, we don't need to deal with them in this particular case."
   ]
  },
  {
   "cell_type": "code",
   "execution_count": 436,
   "metadata": {
    "collapsed": true
   },
   "outputs": [],
   "source": [
    "# Assigning column names\n",
    "num_features = [\"fixed_acidity\", \"volatile_acidity\", \"citric_acid\", \"residual_sugar\", \n",
    "                \"chlorides\", \"free_sulfur_dioxide\", \"total_sulfur_dioxide\", \n",
    "                \"density\", \"pH\", \"sulphates\", \"alcohol\", \"quality\", \"Class\"]\n",
    "\n",
    "wine.columns = num_features"
   ]
  },
  {
   "cell_type": "code",
   "execution_count": 437,
   "metadata": {},
   "outputs": [
    {
     "data": {
      "text/html": [
       "<div>\n",
       "<style>\n",
       "    .dataframe thead tr:only-child th {\n",
       "        text-align: right;\n",
       "    }\n",
       "\n",
       "    .dataframe thead th {\n",
       "        text-align: left;\n",
       "    }\n",
       "\n",
       "    .dataframe tbody tr th {\n",
       "        vertical-align: top;\n",
       "    }\n",
       "</style>\n",
       "<table border=\"1\" class=\"dataframe\">\n",
       "  <thead>\n",
       "    <tr style=\"text-align: right;\">\n",
       "      <th></th>\n",
       "      <th>fixed_acidity</th>\n",
       "      <th>volatile_acidity</th>\n",
       "      <th>citric_acid</th>\n",
       "      <th>residual_sugar</th>\n",
       "      <th>chlorides</th>\n",
       "      <th>free_sulfur_dioxide</th>\n",
       "      <th>total_sulfur_dioxide</th>\n",
       "      <th>density</th>\n",
       "      <th>pH</th>\n",
       "      <th>sulphates</th>\n",
       "      <th>alcohol</th>\n",
       "      <th>quality</th>\n",
       "      <th>Class</th>\n",
       "    </tr>\n",
       "  </thead>\n",
       "  <tbody>\n",
       "    <tr>\n",
       "      <th>0</th>\n",
       "      <td>fixed acidity</td>\n",
       "      <td>volatile acidity</td>\n",
       "      <td>citric acid</td>\n",
       "      <td>residual sugar</td>\n",
       "      <td>chlorides</td>\n",
       "      <td>free sulfur dioxide</td>\n",
       "      <td>total sulfur dioxide</td>\n",
       "      <td>density</td>\n",
       "      <td>pH</td>\n",
       "      <td>sulphates</td>\n",
       "      <td>alcohol</td>\n",
       "      <td>quality</td>\n",
       "      <td>Class</td>\n",
       "    </tr>\n",
       "    <tr>\n",
       "      <th>1</th>\n",
       "      <td>7.4</td>\n",
       "      <td>0.7</td>\n",
       "      <td>0</td>\n",
       "      <td>1.9</td>\n",
       "      <td>0.076</td>\n",
       "      <td>11</td>\n",
       "      <td>34</td>\n",
       "      <td>0.9978</td>\n",
       "      <td>3.51</td>\n",
       "      <td>0.56</td>\n",
       "      <td>9.4</td>\n",
       "      <td>5</td>\n",
       "      <td>1</td>\n",
       "    </tr>\n",
       "  </tbody>\n",
       "</table>\n",
       "</div>"
      ],
      "text/plain": [
       "   fixed_acidity  volatile_acidity  citric_acid  residual_sugar  chlorides  \\\n",
       "0  fixed acidity  volatile acidity  citric acid  residual sugar  chlorides   \n",
       "1            7.4               0.7            0             1.9      0.076   \n",
       "\n",
       "   free_sulfur_dioxide  total_sulfur_dioxide  density    pH  sulphates  \\\n",
       "0  free sulfur dioxide  total sulfur dioxide  density    pH  sulphates   \n",
       "1                   11                    34   0.9978  3.51       0.56   \n",
       "\n",
       "   alcohol  quality  Class  \n",
       "0  alcohol  quality  Class  \n",
       "1      9.4        5      1  "
      ]
     },
     "execution_count": 437,
     "metadata": {},
     "output_type": "execute_result"
    }
   ],
   "source": [
    "wine.head(2)"
   ]
  },
  {
   "cell_type": "code",
   "execution_count": 438,
   "metadata": {
    "collapsed": true
   },
   "outputs": [],
   "source": [
    "# Dropping the first row\n",
    "wine.drop(wine.index[0], inplace=True)"
   ]
  },
  {
   "cell_type": "code",
   "execution_count": 439,
   "metadata": {
    "scrolled": true
   },
   "outputs": [
    {
     "data": {
      "text/html": [
       "<div>\n",
       "<style>\n",
       "    .dataframe thead tr:only-child th {\n",
       "        text-align: right;\n",
       "    }\n",
       "\n",
       "    .dataframe thead th {\n",
       "        text-align: left;\n",
       "    }\n",
       "\n",
       "    .dataframe tbody tr th {\n",
       "        vertical-align: top;\n",
       "    }\n",
       "</style>\n",
       "<table border=\"1\" class=\"dataframe\">\n",
       "  <thead>\n",
       "    <tr style=\"text-align: right;\">\n",
       "      <th></th>\n",
       "      <th>fixed_acidity</th>\n",
       "      <th>volatile_acidity</th>\n",
       "      <th>citric_acid</th>\n",
       "      <th>residual_sugar</th>\n",
       "      <th>chlorides</th>\n",
       "      <th>free_sulfur_dioxide</th>\n",
       "      <th>total_sulfur_dioxide</th>\n",
       "      <th>density</th>\n",
       "      <th>pH</th>\n",
       "      <th>sulphates</th>\n",
       "      <th>alcohol</th>\n",
       "      <th>quality</th>\n",
       "      <th>Class</th>\n",
       "    </tr>\n",
       "  </thead>\n",
       "  <tbody>\n",
       "    <tr>\n",
       "      <th>1</th>\n",
       "      <td>7.4</td>\n",
       "      <td>0.7</td>\n",
       "      <td>0</td>\n",
       "      <td>1.9</td>\n",
       "      <td>0.076</td>\n",
       "      <td>11</td>\n",
       "      <td>34</td>\n",
       "      <td>0.9978</td>\n",
       "      <td>3.51</td>\n",
       "      <td>0.56</td>\n",
       "      <td>9.4</td>\n",
       "      <td>5</td>\n",
       "      <td>1</td>\n",
       "    </tr>\n",
       "  </tbody>\n",
       "</table>\n",
       "</div>"
      ],
      "text/plain": [
       "  fixed_acidity volatile_acidity citric_acid residual_sugar chlorides  \\\n",
       "1           7.4              0.7           0            1.9     0.076   \n",
       "\n",
       "  free_sulfur_dioxide total_sulfur_dioxide density    pH sulphates alcohol  \\\n",
       "1                  11                   34  0.9978  3.51      0.56     9.4   \n",
       "\n",
       "  quality Class  \n",
       "1       5     1  "
      ]
     },
     "execution_count": 439,
     "metadata": {},
     "output_type": "execute_result"
    }
   ],
   "source": [
    "wine.head(1)"
   ]
  },
  {
   "cell_type": "markdown",
   "metadata": {},
   "source": [
    "We need to convert each attribute to numeric to have them scaled. "
   ]
  },
  {
   "cell_type": "code",
   "execution_count": 440,
   "metadata": {
    "collapsed": true
   },
   "outputs": [],
   "source": [
    "#Converting each column to numeric \n",
    "for each in num_features:\n",
    "    wine[each] = pd.to_numeric(wine[each])"
   ]
  },
  {
   "cell_type": "markdown",
   "metadata": {},
   "source": [
    "### Scaling the Dataset"
   ]
  },
  {
   "cell_type": "markdown",
   "metadata": {},
   "source": [
    "We need to scale numeric attributes to perform classification with higher accuracy."
   ]
  },
  {
   "cell_type": "code",
   "execution_count": 441,
   "metadata": {
    "collapsed": true
   },
   "outputs": [],
   "source": [
    "scaled_fatures = [\"fixed_acidity\", \"volatile_acidity\", \"citric_acid\", \"residual_sugar\", \n",
    "                \"chlorides\", \"free_sulfur_dioxide\", \"total_sulfur_dioxide\", \n",
    "                \"density\", \"pH\", \"sulphates\", \"alcohol\", \"quality\"]"
   ]
  },
  {
   "cell_type": "code",
   "execution_count": 442,
   "metadata": {
    "collapsed": true
   },
   "outputs": [],
   "source": [
    "for each in scaled_fatures:\n",
    "    mean, std = wine[each].mean(), wine[each].std()\n",
    "    scaled_features[each] = [mean, std]\n",
    "    wine.loc[:, each] = (wine[each] - mean)/std"
   ]
  },
  {
   "cell_type": "code",
   "execution_count": 443,
   "metadata": {},
   "outputs": [
    {
     "data": {
      "text/html": [
       "<div>\n",
       "<style>\n",
       "    .dataframe thead tr:only-child th {\n",
       "        text-align: right;\n",
       "    }\n",
       "\n",
       "    .dataframe thead th {\n",
       "        text-align: left;\n",
       "    }\n",
       "\n",
       "    .dataframe tbody tr th {\n",
       "        vertical-align: top;\n",
       "    }\n",
       "</style>\n",
       "<table border=\"1\" class=\"dataframe\">\n",
       "  <thead>\n",
       "    <tr style=\"text-align: right;\">\n",
       "      <th></th>\n",
       "      <th>fixed_acidity</th>\n",
       "      <th>volatile_acidity</th>\n",
       "      <th>citric_acid</th>\n",
       "      <th>residual_sugar</th>\n",
       "      <th>chlorides</th>\n",
       "      <th>free_sulfur_dioxide</th>\n",
       "      <th>total_sulfur_dioxide</th>\n",
       "      <th>density</th>\n",
       "      <th>pH</th>\n",
       "      <th>sulphates</th>\n",
       "      <th>alcohol</th>\n",
       "      <th>quality</th>\n",
       "      <th>Class</th>\n",
       "    </tr>\n",
       "  </thead>\n",
       "  <tbody>\n",
       "    <tr>\n",
       "      <th>1</th>\n",
       "      <td>0.142462</td>\n",
       "      <td>2.188664</td>\n",
       "      <td>-2.192664</td>\n",
       "      <td>-0.744721</td>\n",
       "      <td>0.569914</td>\n",
       "      <td>-1.100055</td>\n",
       "      <td>-1.446247</td>\n",
       "      <td>1.034913</td>\n",
       "      <td>1.81295</td>\n",
       "      <td>0.193082</td>\n",
       "      <td>-0.915394</td>\n",
       "      <td>-0.937157</td>\n",
       "      <td>1</td>\n",
       "    </tr>\n",
       "  </tbody>\n",
       "</table>\n",
       "</div>"
      ],
      "text/plain": [
       "   fixed_acidity  volatile_acidity  citric_acid  residual_sugar  chlorides  \\\n",
       "1       0.142462          2.188664    -2.192664       -0.744721   0.569914   \n",
       "\n",
       "   free_sulfur_dioxide  total_sulfur_dioxide   density       pH  sulphates  \\\n",
       "1            -1.100055             -1.446247  1.034913  1.81295   0.193082   \n",
       "\n",
       "    alcohol   quality  Class  \n",
       "1 -0.915394 -0.937157      1  "
      ]
     },
     "execution_count": 443,
     "metadata": {},
     "output_type": "execute_result"
    }
   ],
   "source": [
    "wine.head(1)"
   ]
  },
  {
   "cell_type": "markdown",
   "metadata": {},
   "source": [
    "We will remove the quality attribute, which we will not need for this assignment."
   ]
  },
  {
   "cell_type": "code",
   "execution_count": 444,
   "metadata": {
    "collapsed": true
   },
   "outputs": [],
   "source": [
    "wine.drop(['quality'], axis = 1, inplace = True)"
   ]
  },
  {
   "cell_type": "code",
   "execution_count": 445,
   "metadata": {},
   "outputs": [
    {
     "data": {
      "text/html": [
       "<div>\n",
       "<style>\n",
       "    .dataframe thead tr:only-child th {\n",
       "        text-align: right;\n",
       "    }\n",
       "\n",
       "    .dataframe thead th {\n",
       "        text-align: left;\n",
       "    }\n",
       "\n",
       "    .dataframe tbody tr th {\n",
       "        vertical-align: top;\n",
       "    }\n",
       "</style>\n",
       "<table border=\"1\" class=\"dataframe\">\n",
       "  <thead>\n",
       "    <tr style=\"text-align: right;\">\n",
       "      <th></th>\n",
       "      <th>fixed_acidity</th>\n",
       "      <th>volatile_acidity</th>\n",
       "      <th>citric_acid</th>\n",
       "      <th>residual_sugar</th>\n",
       "      <th>chlorides</th>\n",
       "      <th>free_sulfur_dioxide</th>\n",
       "      <th>total_sulfur_dioxide</th>\n",
       "      <th>density</th>\n",
       "      <th>pH</th>\n",
       "      <th>sulphates</th>\n",
       "      <th>alcohol</th>\n",
       "      <th>Class</th>\n",
       "    </tr>\n",
       "  </thead>\n",
       "  <tbody>\n",
       "    <tr>\n",
       "      <th>1</th>\n",
       "      <td>0.142462</td>\n",
       "      <td>2.188664</td>\n",
       "      <td>-2.192664</td>\n",
       "      <td>-0.744721</td>\n",
       "      <td>0.569914</td>\n",
       "      <td>-1.100055</td>\n",
       "      <td>-1.446247</td>\n",
       "      <td>1.034913</td>\n",
       "      <td>1.81295</td>\n",
       "      <td>0.193082</td>\n",
       "      <td>-0.915394</td>\n",
       "      <td>1</td>\n",
       "    </tr>\n",
       "  </tbody>\n",
       "</table>\n",
       "</div>"
      ],
      "text/plain": [
       "   fixed_acidity  volatile_acidity  citric_acid  residual_sugar  chlorides  \\\n",
       "1       0.142462          2.188664    -2.192664       -0.744721   0.569914   \n",
       "\n",
       "   free_sulfur_dioxide  total_sulfur_dioxide   density       pH  sulphates  \\\n",
       "1            -1.100055             -1.446247  1.034913  1.81295   0.193082   \n",
       "\n",
       "    alcohol  Class  \n",
       "1 -0.915394      1  "
      ]
     },
     "execution_count": 445,
     "metadata": {},
     "output_type": "execute_result"
    }
   ],
   "source": [
    "wine.head(1)"
   ]
  },
  {
   "cell_type": "markdown",
   "metadata": {},
   "source": [
    "### Building the Naive Bayes model"
   ]
  },
  {
   "cell_type": "markdown",
   "metadata": {},
   "source": [
    "We will divide the dataset into training and test datasets."
   ]
  },
  {
   "cell_type": "code",
   "execution_count": 446,
   "metadata": {
    "collapsed": true
   },
   "outputs": [],
   "source": [
    "msk = np.random.rand(wine.shape[0]) <= 0.8"
   ]
  },
  {
   "cell_type": "code",
   "execution_count": 584,
   "metadata": {
    "collapsed": true
   },
   "outputs": [],
   "source": [
    "wine_train = wine.iloc[msk, 0:11]\n",
    "wine_train_target = wine.iloc[msk, 11]\n",
    "wine_test = wine.iloc[~msk, 0:11]\n",
    "wine_test_target = wine.iloc[~msk, 11]"
   ]
  },
  {
   "cell_type": "code",
   "execution_count": 608,
   "metadata": {},
   "outputs": [
    {
     "data": {
      "text/html": [
       "<div>\n",
       "<style>\n",
       "    .dataframe thead tr:only-child th {\n",
       "        text-align: right;\n",
       "    }\n",
       "\n",
       "    .dataframe thead th {\n",
       "        text-align: left;\n",
       "    }\n",
       "\n",
       "    .dataframe tbody tr th {\n",
       "        vertical-align: top;\n",
       "    }\n",
       "</style>\n",
       "<table border=\"1\" class=\"dataframe\">\n",
       "  <thead>\n",
       "    <tr style=\"text-align: right;\">\n",
       "      <th></th>\n",
       "      <th>fixed_acidity</th>\n",
       "      <th>volatile_acidity</th>\n",
       "      <th>citric_acid</th>\n",
       "      <th>residual_sugar</th>\n",
       "      <th>chlorides</th>\n",
       "      <th>free_sulfur_dioxide</th>\n",
       "      <th>total_sulfur_dioxide</th>\n",
       "      <th>density</th>\n",
       "      <th>pH</th>\n",
       "      <th>sulphates</th>\n",
       "      <th>alcohol</th>\n",
       "    </tr>\n",
       "  </thead>\n",
       "  <tbody>\n",
       "    <tr>\n",
       "      <th>1</th>\n",
       "      <td>0.142462</td>\n",
       "      <td>2.188664</td>\n",
       "      <td>-2.192664</td>\n",
       "      <td>-0.744721</td>\n",
       "      <td>0.569914</td>\n",
       "      <td>-1.100055</td>\n",
       "      <td>-1.446247</td>\n",
       "      <td>1.034913</td>\n",
       "      <td>1.81295</td>\n",
       "      <td>0.193082</td>\n",
       "      <td>-0.915394</td>\n",
       "    </tr>\n",
       "  </tbody>\n",
       "</table>\n",
       "</div>"
      ],
      "text/plain": [
       "   fixed_acidity  volatile_acidity  citric_acid  residual_sugar  chlorides  \\\n",
       "1       0.142462          2.188664    -2.192664       -0.744721   0.569914   \n",
       "\n",
       "   free_sulfur_dioxide  total_sulfur_dioxide   density       pH  sulphates  \\\n",
       "1            -1.100055             -1.446247  1.034913  1.81295   0.193082   \n",
       "\n",
       "    alcohol  \n",
       "1 -0.915394  "
      ]
     },
     "execution_count": 608,
     "metadata": {},
     "output_type": "execute_result"
    }
   ],
   "source": [
    "wine_train.head(1)"
   ]
  },
  {
   "cell_type": "code",
   "execution_count": 609,
   "metadata": {},
   "outputs": [
    {
     "data": {
      "text/plain": [
       "(5180, 1317)"
      ]
     },
     "execution_count": 609,
     "metadata": {},
     "output_type": "execute_result"
    }
   ],
   "source": [
    "len(wine_train), len(wine_test)"
   ]
  },
  {
   "cell_type": "markdown",
   "metadata": {},
   "source": [
    "So, 20% of the data went to the test bucket and 80% of the data went to the training bucket. "
   ]
  },
  {
   "cell_type": "markdown",
   "metadata": {},
   "source": [
    "Now, we will create a Naive Bayes model for our classification task."
   ]
  },
  {
   "cell_type": "code",
   "execution_count": null,
   "metadata": {
    "collapsed": true
   },
   "outputs": [],
   "source": [
    "# Import the libraries\n",
    "import sklearn.naive_bayes \n",
    "from sklearn.naive_bayes import GaussianNB\n",
    "from sklearn import datasets, metrics\n",
    "from matplotlib import pyplot as plt"
   ]
  },
  {
   "cell_type": "markdown",
   "metadata": {},
   "source": [
    "Here we will create a function to train our model and to calculate it's accuracy.\n",
    "* Classification targets should be represented as integers or as strings. That's why it's converted to string in the code below. "
   ]
  },
  {
   "cell_type": "code",
   "execution_count": 518,
   "metadata": {
    "collapsed": true
   },
   "outputs": [],
   "source": [
    "#Build the model\n",
    "class GNBModel:\n",
    "    modelName = \"\"\n",
    "    gnb_model = None\n",
    "    y_pred = None\n",
    "    \n",
    "    def __init__(self, modelName):\n",
    "        self.modelName = modelName\n",
    "        \n",
    "    def getModelName(self):\n",
    "        return self.modelName\n",
    "    \n",
    "    def train(self, trainData, trainDataTarget):\n",
    "        gnb = GaussianNB()\n",
    "        self.gnb_model = gnb.fit(trainData.astype(str), trainDataTarget.astype(str))\n",
    "        \n",
    "    def findAccuracyUsingTestData(self, testData, testDataTarget):\n",
    "        self.y_pred = self.gnb_model.predict(testData)\n",
    "        misclassified_points = (testDataTarget.astype(str) != self.y_pred).sum()\n",
    "        print(\"ACCURACY FOR \" + self.modelName)\n",
    "        print(\"Number of mislabeled points out of a total %d points : %d\"%(testData.shape[0], misclassified_points))\n",
    "        print(\"Accuracy = %.2f\"%(round((testData.shape[0] - float(misclassified_points))/testData.shape[0]*100,2)))\n",
    "\n",
    "    def determineAUC(self, testDataTarget):\n",
    "        fpr, tpr,_ = metrics.roc_curve(testDataTarget.astype(float), self.y_pred.astype(float))\n",
    "        print(self.modelName + \" AUC: \" + str(metrics.auc(fpr, tpr)))\n",
    "        plt.plot(fpr, tpr)\n",
    "        plt.show()"
   ]
  },
  {
   "cell_type": "markdown",
   "metadata": {},
   "source": [
    "Now we train our model using the training data. After training the model we will calculate the accuracy of the trained model by running predictions on test data and comparing results."
   ]
  },
  {
   "cell_type": "code",
   "execution_count": 585,
   "metadata": {},
   "outputs": [
    {
     "name": "stdout",
     "output_type": "stream",
     "text": [
      "ACCURACY FOR Model Using All Attributes\n",
      "Number of mislabeled points out of a total 1317 points : 33\n",
      "Accuracy = 97.49\n"
     ]
    }
   ],
   "source": [
    "#Run for all columns\n",
    "allColumnsModel = GNBModel(\"Model Using All Attributes\")\n",
    "allColumnsModel.train(wine_train, wine_train_target)\n",
    "allColumnsModel.findAccuracyUsingTestData(wine_test, wine_test_target)"
   ]
  },
  {
   "cell_type": "markdown",
   "metadata": {},
   "source": [
    "We will also calculate and plot the AUC for our classifier. "
   ]
  },
  {
   "cell_type": "code",
   "execution_count": 520,
   "metadata": {},
   "outputs": [
    {
     "name": "stdout",
     "output_type": "stream",
     "text": [
      "Model Using All Attributes AUC: 0.971922707377\n"
     ]
    },
    {
     "data": {
      "image/png": "[encoded data removed]",
      "text/plain": [
       "<matplotlib.figure.Figure at 0x117837490>"
      ]
     },
     "metadata": {},
     "output_type": "display_data"
    }
   ],
   "source": [
    "allColumnsModel.determineAUC(wine_test_target)"
   ]
  },
  {
   "cell_type": "markdown",
   "metadata": {},
   "source": [
    "Now, we want to use a subset of attributes to achive a better accuracy. We will use a Random Forest classifier to determine the most important attributes that should be used in our next model. "
   ]
  },
  {
   "cell_type": "code",
   "execution_count": 456,
   "metadata": {
    "collapsed": true
   },
   "outputs": [],
   "source": [
    "# Import 'RandomForestClassifier'\n",
    "from sklearn.ensemble import RandomForestClassifier"
   ]
  },
  {
   "cell_type": "code",
   "execution_count": 457,
   "metadata": {},
   "outputs": [
    {
     "name": "stdout",
     "output_type": "stream",
     "text": [
      "Features sorted by their score:\n",
      "[(0.4175, 'chlorides'), (0.2292, 'total_sulfur_dioxide'), (0.0669, 'volatile_acidity'), (0.0665, 'sulphates'), (0.0416, 'fixed_acidity'), (0.0399, 'free_sulfur_dioxide'), (0.0399, 'density'), (0.0369, 'residual_sugar'), (0.0344, 'citric_acid'), (0.0195, 'pH'), (0.0076, 'alcohol')]\n"
     ]
    }
   ],
   "source": [
    "# Build the model\n",
    "names = wine.columns.values\n",
    "rfc = RandomForestClassifier()\n",
    "rfc.fit(wine_train.astype(str), wine_train_target.astype(str))\n",
    "\n",
    "# Print the results\n",
    "print(\"Features sorted by their score:\")\n",
    "print(sorted(zip(map(lambda x: round(x, 4), rfc.feature_importances_), names), reverse=True))"
   ]
  },
  {
   "cell_type": "markdown",
   "metadata": {},
   "source": [
    "We determined the importance of each attribute. We can also plot the attributes based on their importance. "
   ]
  },
  {
   "cell_type": "code",
   "execution_count": 533,
   "metadata": {
    "scrolled": true
   },
   "outputs": [
    {
     "data": {
      "image/png": "[encoded data removed]",
      "text/plain": [
       "<matplotlib.figure.Figure at 0x1178370d0>"
      ]
     },
     "metadata": {},
     "output_type": "display_data"
    }
   ],
   "source": [
    "# Isolate feature importances \n",
    "importance = rfc.feature_importances_\n",
    "\n",
    "# Sort the feature importances \n",
    "sorted_importances = np.argsort(importance)\n",
    "\n",
    "# Insert padding\n",
    "padding = np.arange(len(names)-1) + 0.5\n",
    "\n",
    "# Plot the data\n",
    "plt.barh(padding, importance[sorted_importances], align='center')\n",
    "\n",
    "# Customize the plot\n",
    "plt.yticks(padding, names[sorted_importances])\n",
    "plt.xlabel(\"Relative Importance\")\n",
    "plt.title(\"Variable Importance\")\n",
    "\n",
    "# Show the plot\n",
    "plt.show()"
   ]
  },
  {
   "cell_type": "markdown",
   "metadata": {},
   "source": [
    "We will build a new Naive Bayes model with a subset of attributes as opposed to using all of them. We will start with including the four most important attributes at first. "
   ]
  },
  {
   "cell_type": "code",
   "execution_count": 586,
   "metadata": {
    "collapsed": true
   },
   "outputs": [],
   "source": [
    "wine_train_subset = wine.loc[msk, ['chlorides', 'total_sulfur_dioxide', 'volatile_acidity',\n",
    "                             'sulphates']]\n",
    "wine_train_target_subset = wine.iloc[msk, 11]\n",
    "wine_test_subset = wine.loc[~msk, ['chlorides', 'total_sulfur_dioxide', 'volatile_acidity',\n",
    "                             'sulphates']]\n",
    "wine_test_target_subset = wine.iloc[~msk, 11]"
   ]
  },
  {
   "cell_type": "code",
   "execution_count": 563,
   "metadata": {
    "scrolled": true
   },
   "outputs": [
    {
     "data": {
      "text/html": [
       "<div>\n",
       "<style>\n",
       "    .dataframe thead tr:only-child th {\n",
       "        text-align: right;\n",
       "    }\n",
       "\n",
       "    .dataframe thead th {\n",
       "        text-align: left;\n",
       "    }\n",
       "\n",
       "    .dataframe tbody tr th {\n",
       "        vertical-align: top;\n",
       "    }\n",
       "</style>\n",
       "<table border=\"1\" class=\"dataframe\">\n",
       "  <thead>\n",
       "    <tr style=\"text-align: right;\">\n",
       "      <th></th>\n",
       "      <th>free_sulfur_dioxide</th>\n",
       "      <th>total_sulfur_dioxide</th>\n",
       "      <th>density</th>\n",
       "      <th>pH</th>\n",
       "      <th>sulphates</th>\n",
       "      <th>alcohol</th>\n",
       "    </tr>\n",
       "  </thead>\n",
       "  <tbody>\n",
       "    <tr>\n",
       "      <th>1</th>\n",
       "      <td>-1.100055</td>\n",
       "      <td>-1.446247</td>\n",
       "      <td>1.034913</td>\n",
       "      <td>1.81295</td>\n",
       "      <td>0.193082</td>\n",
       "      <td>-0.915394</td>\n",
       "    </tr>\n",
       "  </tbody>\n",
       "</table>\n",
       "</div>"
      ],
      "text/plain": [
       "   free_sulfur_dioxide  total_sulfur_dioxide   density       pH  sulphates  \\\n",
       "1            -1.100055             -1.446247  1.034913  1.81295   0.193082   \n",
       "\n",
       "    alcohol  \n",
       "1 -0.915394  "
      ]
     },
     "execution_count": 563,
     "metadata": {},
     "output_type": "execute_result"
    }
   ],
   "source": [
    "wine_train_subset.head(1)"
   ]
  },
  {
   "cell_type": "markdown",
   "metadata": {},
   "source": [
    "Now we will create a Naive Bayes classifier using a subset of attributes as opposed to using all of the attributes."
   ]
  },
  {
   "cell_type": "code",
   "execution_count": 598,
   "metadata": {},
   "outputs": [
    {
     "name": "stdout",
     "output_type": "stream",
     "text": [
      "ACCURACY FOR Model Using a Subset of Attributes\n",
      "Number of mislabeled points out of a total 1317 points : 47\n",
      "Accuracy = 96.43\n"
     ]
    }
   ],
   "source": [
    "#Run for a subset of columns\n",
    "fourColumnsModel = GNBModel(\"Model Using a Subset of Attributes\")\n",
    "fourColumnsModel.train(wine_train_subset, wine_train_target_subset)\n",
    "fourColumnsModel.findAccuracyUsingTestData(wine_test_subset, wine_test_target_subset)"
   ]
  },
  {
   "cell_type": "markdown",
   "metadata": {},
   "source": [
    "When we use a subset of attributes as opposed to all of the attributes, the accuracy will drop slightly."
   ]
  },
  {
   "cell_type": "code",
   "execution_count": 588,
   "metadata": {},
   "outputs": [
    {
     "name": "stdout",
     "output_type": "stream",
     "text": [
      "Model Using a Subset of Attributes AUC: 0.96101562222\n"
     ]
    },
    {
     "data": {
      "image/png": "[encoded data removed]",
      "text/plain": [
       "<matplotlib.figure.Figure at 0x117018190>"
      ]
     },
     "metadata": {},
     "output_type": "display_data"
    }
   ],
   "source": [
    "subColumnsModel.determineAUC(wine_test_target_subset)"
   ]
  },
  {
   "cell_type": "markdown",
   "metadata": {},
   "source": [
    "Let's create a new model with using only three attributes to see how it is going to impact the accuracy of our classifier."
   ]
  },
  {
   "cell_type": "code",
   "execution_count": 596,
   "metadata": {
    "collapsed": true
   },
   "outputs": [],
   "source": [
    "wine_train_subset2 = wine.loc[msk, ['chlorides', 'total_sulfur_dioxide', 'volatile_acidity']]\n",
    "wine_train_target_subset2 = wine.iloc[msk, 11]\n",
    "wine_test_subset2 = wine.loc[~msk, ['chlorides', 'total_sulfur_dioxide', 'volatile_acidity']]\n",
    "wine_test_target_subset2 = wine.iloc[~msk, 11]"
   ]
  },
  {
   "cell_type": "code",
   "execution_count": 597,
   "metadata": {},
   "outputs": [
    {
     "name": "stdout",
     "output_type": "stream",
     "text": [
      "ACCURACY FOR Model Using a Smaller Subset of Attributes\n",
      "Number of mislabeled points out of a total 1317 points : 58\n",
      "Accuracy = 95.60\n"
     ]
    }
   ],
   "source": [
    "#Run for a subset of columns, with three attributes\n",
    "threeColumnsModel = GNBModel(\"Model Using a Smaller Subset of Attributes\")\n",
    "threeColumnsModel.train(wine_train_subset2, wine_train_target_subset2)\n",
    "threeColumnsModel.findAccuracyUsingTestData(wine_test_subset2, wine_test_target_subset2)"
   ]
  },
  {
   "cell_type": "markdown",
   "metadata": {},
   "source": [
    "We see that when we use two attributes in our model instead of three attributes, we get slighlty less accuracy. "
   ]
  },
  {
   "cell_type": "markdown",
   "metadata": {},
   "source": [
    "We will create a new model with using only two attributes to determine the minimum number of attributes that we can use."
   ]
  },
  {
   "cell_type": "code",
   "execution_count": 603,
   "metadata": {
    "collapsed": true
   },
   "outputs": [],
   "source": [
    "wine_train_subset3 = wine.loc[msk, ['chlorides', 'total_sulfur_dioxide']]\n",
    "wine_train_target_subset3 = wine.iloc[msk, 11]\n",
    "wine_test_subset3 = wine.loc[~msk, ['chlorides', 'total_sulfur_dioxide']]\n",
    "wine_test_target_subset3 = wine.iloc[~msk, 11]"
   ]
  },
  {
   "cell_type": "code",
   "execution_count": 604,
   "metadata": {},
   "outputs": [
    {
     "name": "stdout",
     "output_type": "stream",
     "text": [
      "ACCURACY FOR Model Using only two attributes\n",
      "Number of mislabeled points out of a total 1317 points : 77\n",
      "Accuracy = 94.15\n"
     ]
    }
   ],
   "source": [
    "#Run for a subset of columns, with two attributes\n",
    "twoColumnsModel = GNBModel(\"Model Using only two attributes\")\n",
    "twoColumnsModel.train(wine_train_subset3, wine_train_target_subset3)\n",
    "twoColumnsModel.findAccuracyUsingTestData(wine_test_subset3, wine_test_target_subset3)"
   ]
  },
  {
   "cell_type": "markdown",
   "metadata": {},
   "source": [
    "Let's try building our model based on only one attribute and see what happens."
   ]
  },
  {
   "cell_type": "code",
   "execution_count": 605,
   "metadata": {
    "collapsed": true
   },
   "outputs": [],
   "source": [
    "wine_train_subset4 = wine.loc[msk, ['chlorides']]\n",
    "wine_train_target_subset4 = wine.iloc[msk, 11]\n",
    "wine_test_subset4 = wine.loc[~msk, ['chlorides']]\n",
    "wine_test_target_subset4 = wine.iloc[~msk, 11]"
   ]
  },
  {
   "cell_type": "code",
   "execution_count": 606,
   "metadata": {},
   "outputs": [
    {
     "name": "stdout",
     "output_type": "stream",
     "text": [
      "ACCURACY FOR Model Using only one attribute\n",
      "Number of mislabeled points out of a total 1317 points : 279\n",
      "Accuracy = 78.82\n"
     ]
    }
   ],
   "source": [
    "#Run for a subset of columns, with one attribute\n",
    "oneColumnsModel = GNBModel(\"Model Using only one attribute\")\n",
    "oneColumnsModel.train(wine_train_subset4, wine_train_target_subset4)\n",
    "oneColumnsModel.findAccuracyUsingTestData(wine_test_subset4, wine_test_target_subset4)"
   ]
  },
  {
   "cell_type": "markdown",
   "metadata": {},
   "source": [
    "### Summary"
   ]
  },
  {
   "cell_type": "markdown",
   "metadata": {},
   "source": [
    "1. Classification results (using all attributes)\n",
    "  * Accuracy: 97.49  \n",
    "  * AUC: 0.971922707377 \n",
    "   \n",
    "2. Classification results (using the most important four attributes)\n",
    "  * Accuracy: 96.43 \n",
    "  * AUC: 0.96101562222\n",
    "  \n",
    "3. Classification results (using the most important three attributes)\n",
    "  * Accuracy: 95.60 \n",
    " \n",
    "4. Classification results (using the most important two attributes)\n",
    "  * Accuracy: 94.15\n",
    "  \n",
    "5. Classification results (using the most important attribute)\n",
    "  * Accuracy: 78.82 "
   ]
  },
  {
   "cell_type": "markdown",
   "metadata": {},
   "source": [
    "* The best AUC that we can achieve is  0.971922707377 and we can achieve it when we build our model based on all of the attributes. \n",
    "* We will need three attributes at minimum to achieve accuracy higher than 95%. The less number of attributes we use, the less accurate our model gets. "
   ]
  },
  {
   "cell_type": "code",
   "execution_count": null,
   "metadata": {
    "collapsed": true
   },
   "outputs": [],
   "source": []
  }
 ],
 "metadata": {
  "kernelspec": {
   "display_name": "Python 2",
   "language": "python",
   "name": "python2"
  },
  "language_info": {
   "codemirror_mode": {
    "name": "ipython",
    "version": 2
   },
   "file_extension": ".py",
   "mimetype": "text/x-python",
   "name": "python",
   "nbconvert_exporter": "python",
   "pygments_lexer": "ipython2",
   "version": "2.7.13"
  }
 },
 "nbformat": 4,
 "nbformat_minor": 2
}
